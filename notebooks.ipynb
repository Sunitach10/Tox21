{
 "cells": [
  {
   "cell_type": "code",
   "execution_count": 1,
   "metadata": {
    "collapsed": true
   },
   "outputs": [],
   "source": [
    "from __future__ import print_function\n",
    "\n",
    "import numpy as np\n",
    "import pandas as pd\n",
    "\n",
    "import rdkit\n",
    "from rdkit import Chem\n",
    "\n",
    "np.random.seed(123)"
   ]
  },
  {
   "cell_type": "code",
   "execution_count": 2,
   "metadata": {
    "collapsed": true
   },
   "outputs": [],
   "source": [
    "#SDF file to mol and Dataframe\n",
    "def sdf_to_df(filepass):\n",
    "    mols = [mol for mol in Chem.SDMolSupplier(filepass) if mol is not None]\n",
    "    for id, mol in enumerate(mols):\n",
    "        if id == 0:\n",
    "            dicts = mol.GetPropsAsDict()\n",
    "            df = pd.DataFrame(dicts, index=[id,])\n",
    "        else:\n",
    "            dicts = mol.GetPropsAsDict()\n",
    "            dfplus = pd.DataFrame(dicts, index=[id,])\n",
    "            df = df.append(dfplus)\n",
    "    return mols, df"
   ]
  },
  {
   "cell_type": "code",
   "execution_count": 3,
   "metadata": {
    "collapsed": true
   },
   "outputs": [],
   "source": [
    "#Return list of indices of Nonetypes when SDF file is coneverted to mol by RDkit.\n",
    "def search_nonetype_id(more, less):\n",
    "    result = []\n",
    "    for i in range(len(more)):\n",
    "        if more['Sample ID'].values[i] in  less['Sample ID'].values:\n",
    "            pass\n",
    "        else:\n",
    "            result.append(i)\n",
    "    return result"
   ]
  },
  {
   "cell_type": "code",
   "execution_count": 4,
   "metadata": {
    "collapsed": true
   },
   "outputs": [],
   "source": [
    "#Train sets\n",
    "\n",
    "train_x, train_df = sdf_to_df('./tox21_10k_data_all.sdf')\n",
    "\n",
    "#train_x = [Chem.AddHs(mol) for mol in train_x if mol is not None] # Uncomment: Adds hydrogens to the graph of a molecule.\n",
    "train_label = train_df.drop(train_df.columns[:3], axis=1)\n",
    "train_label = train_label.values"
   ]
  },
  {
   "cell_type": "code",
   "execution_count": 5,
   "metadata": {},
   "outputs": [
    {
     "data": {
      "text/plain": [
       "[<rdkit.Chem.rdchem.Mol at 0x7f967b2cd360>,\n",
       " <rdkit.Chem.rdchem.Mol at 0x7f967b2cd3d0>]"
      ]
     },
     "execution_count": 5,
     "metadata": {},
     "output_type": "execute_result"
    }
   ],
   "source": [
    "train_x[:2]"
   ]
  },
  {
   "cell_type": "code",
   "execution_count": 6,
   "metadata": {},
   "outputs": [
    {
     "data": {
      "text/plain": [
       "array([[ nan,  nan,  nan,  nan,  nan,  nan,  nan,  nan,  nan,   0.,  nan,\n",
       "         nan],\n",
       "       [ nan,  nan,  nan,  nan,  nan,  nan,  nan,  nan,  nan,   0.,  nan,\n",
       "         nan]])"
      ]
     },
     "execution_count": 6,
     "metadata": {},
     "output_type": "execute_result"
    }
   ],
   "source": [
    "train_label[:2]"
   ]
  },
  {
   "cell_type": "code",
   "execution_count": 7,
   "metadata": {
    "collapsed": true
   },
   "outputs": [],
   "source": [
    "#Valid sets\n",
    "\n",
    "valid_x, valid_df = sdf_to_df('./tox21_10k_challenge_test.sdf')\n",
    "\n",
    "#valid_x = [Chem.AddHs(mol) for mol in valid_x if mol is not None] # Uncomment: Adds hydrogens to the graph of a molecule.\n",
    "\n",
    "#Drop useless columns.\n",
    "valid_label = valid_df.drop(valid_df.columns[:2], axis=1)\n",
    "valid_label = valid_label.values"
   ]
  },
  {
   "cell_type": "code",
   "execution_count": 8,
   "metadata": {},
   "outputs": [
    {
     "data": {
      "text/plain": [
       "[<rdkit.Chem.rdchem.Mol at 0x7f9677156fa0>,\n",
       " <rdkit.Chem.rdchem.Mol at 0x7f9677156ec0>]"
      ]
     },
     "execution_count": 8,
     "metadata": {},
     "output_type": "execute_result"
    }
   ],
   "source": [
    "valid_x[:2]"
   ]
  },
  {
   "cell_type": "code",
   "execution_count": 9,
   "metadata": {},
   "outputs": [
    {
     "data": {
      "text/plain": [
       "array([[  0.,   0.,   0.,  nan,   0.,   0.,   0.,   0.,   1.,   0.,   0.,\n",
       "          0.],\n",
       "       [  0.,   0.,  nan,  nan,   1.,  nan,   0.,  nan,   1.,  nan,  nan,\n",
       "          1.]])"
      ]
     },
     "execution_count": 9,
     "metadata": {},
     "output_type": "execute_result"
    }
   ],
   "source": [
    "valid_label[:2]"
   ]
  },
  {
   "cell_type": "code",
   "execution_count": 10,
   "metadata": {
    "collapsed": true
   },
   "outputs": [],
   "source": [
    "#Test sets\n",
    "\n",
    "test_x, test_df = sdf_to_df('./tox21_10k_challenge_score.sdf')\n",
    "\n",
    "#test_x = [Chem.AddHs(mol) for mol in test_x if mol is not None] # Uncomment: Adds hydrogens to the graph of a molecule.\n",
    "\n",
    "test_df_label = pd.read_table('./tox21_10k_challenge_score.csv')\n",
    "none_ids = search_nonetype_id(test_df_label, test_df)\n",
    "\n",
    "#Drop indices of Nonetype and useless columns.\n",
    "test_label = test_df_label.drop(none_ids)\n",
    "test_label = test_label.drop(test_label.columns[:1], axis=1)\n",
    "#'x' to 'NaN'\n",
    "test_label = np.where(test_label == 'x' , np.nan, test_label)\n",
    "test_label = test_label.astype(np.float64)"
   ]
  },
  {
   "cell_type": "code",
   "execution_count": 11,
   "metadata": {},
   "outputs": [
    {
     "data": {
      "text/plain": [
       "[<rdkit.Chem.rdchem.Mol at 0x7f96770042f0>,\n",
       " <rdkit.Chem.rdchem.Mol at 0x7f9677004280>]"
      ]
     },
     "execution_count": 11,
     "metadata": {},
     "output_type": "execute_result"
    }
   ],
   "source": [
    "test_x[:2]"
   ]
  },
  {
   "cell_type": "code",
   "execution_count": 12,
   "metadata": {},
   "outputs": [
    {
     "data": {
      "text/plain": [
       "array([[  0.,   1.,  nan,   0.,   0.,   0.,   0.,  nan,   0.,   0.,  nan,\n",
       "          0.],\n",
       "       [  0.,   1.,  nan,  nan,   0.,   0.,   0.,   0.,   0.,   0.,   0.,\n",
       "          0.]])"
      ]
     },
     "execution_count": 12,
     "metadata": {},
     "output_type": "execute_result"
    }
   ],
   "source": [
    "test_label[:2]"
   ]
  },
  {
   "cell_type": "code",
   "execution_count": null,
   "metadata": {
    "collapsed": true
   },
   "outputs": [],
   "source": []
  }
 ],
 "metadata": {
  "kernelspec": {
   "display_name": "Python 2",
   "language": "python",
   "name": "python2"
  },
  "language_info": {
   "codemirror_mode": {
    "name": "ipython",
    "version": 2
   },
   "file_extension": ".py",
   "mimetype": "text/x-python",
   "name": "python",
   "nbconvert_exporter": "python",
   "pygments_lexer": "ipython2",
   "version": "2.7.13"
  }
 },
 "nbformat": 4,
 "nbformat_minor": 2
}
